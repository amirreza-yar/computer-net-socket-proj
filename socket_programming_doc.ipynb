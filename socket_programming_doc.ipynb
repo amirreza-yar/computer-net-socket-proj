{
 "cells": [
  {
   "cell_type": "markdown",
   "id": "1a7db43a-9617-479e-a317-f625a2aa687e",
   "metadata": {},
   "source": [
    "# Computer Networking: Socket programming assignment\n",
    "###### Sup. by Dr. Bazmi and implemented by Amirreza Yarahmadi\n",
    "\n",
    "### Introduction\n",
    "This assignment is about creating a client and a server that talk to each other using sockets. The client sends a name and number to the server, and the server replies with its name and an integer number, showing both numbers and their sum. If the client sends a number outside the range, the server shuts down. The main purpose is to validate the data recieved from the server, the sum of the numbers that are logged in server and client should be the same.\n",
    "\n",
    "The assignment folder structure looks like:"
   ]
  },
  {
   "cell_type": "code",
   "execution_count": 9,
   "id": "b88963d4-fc9b-403d-94a9-b7e171121402",
   "metadata": {},
   "outputs": [
    {
     "name": "stdout",
     "output_type": "stream",
     "text": [
      "\u001b[36m.\n",
      "\u001b[36m├── \u001b[31m__socket_client\n",
      "\u001b[36m│   ├── \u001b[32mapi.py\n",
      "\u001b[36m│   ├── \u001b[32m__init__.py\n",
      "\u001b[36m│   ├── \u001b[32mlogger.py\n",
      "\u001b[36m├── \u001b[31m__socket_server\n",
      "\u001b[36m│   ├── \u001b[32mapi.py\n",
      "\u001b[36m│   ├── \u001b[32m__init__.py\n",
      "\u001b[36m│   ├── \u001b[32mlogger.py\n",
      "\u001b[36m├── \u001b[32mstart_socket_client.py\n",
      "\u001b[36m└── \u001b[32mstart_socket_server.py\n"
     ]
    }
   ],
   "source": [
    "from colorama import Fore\n",
    "\n",
    "# Define colors for different parts of the directory\n",
    "dir_color = Fore.CYAN\n",
    "file_color = Fore.RED\n",
    "python_file_color = Fore.GREEN\n",
    "\n",
    "# Print the directory structure with colors\n",
    "print(f\"{dir_color}.\")\n",
    "print(f\"{dir_color}├── {file_color}__socket_client\")\n",
    "print(f\"{dir_color}│   ├── {python_file_color}api.py\")\n",
    "print(f\"{dir_color}│   ├── {python_file_color}__init__.py\")\n",
    "print(f\"{dir_color}│   ├── {python_file_color}logger.py\")\n",
    "print(f\"{dir_color}├── {file_color}__socket_server\")\n",
    "print(f\"{dir_color}│   ├── {python_file_color}api.py\")\n",
    "print(f\"{dir_color}│   ├── {python_file_color}__init__.py\")\n",
    "print(f\"{dir_color}│   ├── {python_file_color}logger.py\")\n",
    "print(f\"{dir_color}├── {python_file_color}start_socket_client.py\")\n",
    "print(f\"{dir_color}└── {python_file_color}start_socket_server.py\")\n"
   ]
  },
  {
   "cell_type": "markdown",
   "id": "18f2020d-5425-4da4-9227-044ad1e5f448",
   "metadata": {},
   "source": [
    "The `__socket_client` and `__socket_server` packages that contains the `api.py` files for starting and handling the socket server and client. The `logger.py` file contain the custom utils needed for logging the output. The `start_socket_client.py` and `start_socket_server.py` files as those sounds starts the client and server.\n",
    "\n",
    "Next I will explain the details of this program."
   ]
  },
  {
   "cell_type": "markdown",
   "id": "4588bd86-f888-4990-a871-9d73aadb35d9",
   "metadata": {},
   "source": [
    "### Server Side:\n",
    "The server waits for the client to connect. When the client connects, the server gets the client's name and a number. If the number is between 1 and 100, the server picks a random number and sends it back to the client, along with the server's name. The server also sends the sum of both numbers. If the client sends a number that is too big or too small, the server stops and closes the connection. Also it print logs for the user to see behind of the proccess. The logs that are indicated as \"DEBUG\" are the programming logs (ex. The server started on 0.0.0.0:8000) and \"INFO\" logs are the main output of these program. The server starts by running `start_socket_server.py` file. The logged output of this program after interacting with user looks like:"
   ]
  },
  {
   "cell_type": "code",
   "execution_count": 4,
   "id": "27ec5436-1968-41b3-9cf1-24290428cbbc",
   "metadata": {},
   "outputs": [
    {
     "name": "stdout",
     "output_type": "stream",
     "text": [
      "\u001b[32m[INFO] [start_server]: Amirreza Yarahmadi Server started and listening on 0.0.0.0:8000\u001b[0m\n",
      "\u001b[34m[DEBUG] [start_server]: Connection accepted from ('127.0.0.1', 48528)\u001b[0m\n",
      "\u001b[34m[DEBUG] [handle_client]: Message recieved from client\u001b[0m\n",
      "\u001b[32m[INFO] [handle_client]: Client Name: Amirreza Yarahmadi Client | Server Name: Amirreza Yarahmadi Server\u001b[0m\n",
      "\u001b[32m[INFO] [handle_client]: Client Number: 25 | Server Number: 10 | Sum: 35\u001b[0m\n",
      "\u001b[34m[DEBUG] [handle_client]: Sending client response\u001b[0m\n",
      "\u001b[34m[DEBUG] [handle_client]: Client connection closed\u001b[0m\n",
      "\u001b[34m[DEBUG] [start_server]: Connection accepted from ('127.0.0.1', 40484)\u001b[0m\n",
      "\u001b[34m[DEBUG] [handle_client]: Message recieved from client\u001b[0m\n",
      "\u001b[33m[WARNING] [handle_client]: Client int out of range: 0. Terminating the server.\u001b[0m\n"
     ]
    }
   ],
   "source": [
    "from colorama import Fore\n",
    "\n",
    "log_levels = {\n",
    "    \"INFO\": Fore.GREEN,\n",
    "    \"DEBUG\": Fore.BLUE,\n",
    "    \"WARNING\": Fore.YELLOW,\n",
    "    \"ERROR\": Fore.RED\n",
    "}\n",
    "\n",
    "log_lines = [\n",
    "    (\"INFO\", \"start_server\", \"Amirreza Yarahmadi Server started and listening on 0.0.0.0:8000\"),\n",
    "    (\"DEBUG\", \"start_server\", \"Connection accepted from ('127.0.0.1', 48528)\"),\n",
    "    (\"DEBUG\", \"handle_client\", \"Message recieved from client\"),\n",
    "    (\"INFO\", \"handle_client\", \"Client Name: Amirreza Yarahmadi Client | Server Name: Amirreza Yarahmadi Server\"),\n",
    "    (\"INFO\", \"handle_client\", \"Client Number: 25 | Server Number: 10 | Sum: 35\"),\n",
    "    (\"DEBUG\", \"handle_client\", \"Sending client response\"),\n",
    "    (\"DEBUG\", \"handle_client\", \"Client connection closed\"),\n",
    "    (\"DEBUG\", \"start_server\", \"Connection accepted from ('127.0.0.1', 40484)\"),\n",
    "    (\"DEBUG\", \"handle_client\", \"Message recieved from client\"),\n",
    "    (\"WARNING\", \"handle_client\", \"Client int out of range: 0. Terminating the server.\")\n",
    "]\n",
    "\n",
    "for level, func, message in log_lines:\n",
    "    print(f\"{log_levels[level]}[{level}] [{func}]: {message}\\x1b[0m\")"
   ]
  },
  {
   "cell_type": "markdown",
   "id": "01211184-ddfa-4dfd-a881-69cee2bb72cf",
   "metadata": {},
   "source": [
    "As this log shows, a client with IP and Port `127.0.0.1:48528` created a connection with the server `0.0.0.0:8000`. The client sent its name as `Amirreza Yarahmadi Client` and its integer value `25`. The server logged its name with client name as `Client Name: Amirreza Yarahmadi Client | Server Name: Amirreza Yarahmadi Server` and its int value, the client int value and sum of those as `Client Number: 25 | Server Number: 10 | Sum: 35`. Then as supposed the client connection closed. Then another client `127.0.0.1:40484` connected to the server and submited a value of `0` which is out of desired range `[1, 100]`. So as desired the server terminated itself."
   ]
  },
  {
   "cell_type": "markdown",
   "id": "d4aba4b0-86f7-40ae-8041-c46d9d9f23e0",
   "metadata": {},
   "source": [
    "### Client Side:\n",
    "The client asks the user to enter a number, connects to the server, and sends its name and the number. The client then waits for the server's response, which has the server's name, number, and the sum of both numbers. If the number is not between 1 and 100, the client stops and exits. The printed logs are the same as the server logs. A logged interaction with server looks like:"
   ]
  },
  {
   "cell_type": "code",
   "execution_count": 5,
   "id": "7a0dbb1a-f44e-45bc-87ec-93d7ca1401ce",
   "metadata": {},
   "outputs": [
    {
     "name": "stdout",
     "output_type": "stream",
     "text": [
      "Enter an integer between 1 and 100: 25\n",
      "\u001b[34m[DEBUG] [send_message]: Connected to server at 0.0.0.0:8000\u001b[0m\n",
      "\u001b[32m[INFO] [send_message]: Amirreza Yarahmadi Client | Amirreza Yarahmadi Server\u001b[0m\n",
      "\u001b[32m[INFO] [send_message]: Client Number: 25 | Server Number: 10 | Sum: 35\u001b[0m\n"
     ]
    }
   ],
   "source": [
    "from colorama import Fore\n",
    "\n",
    "# Define log levels and their colors\n",
    "log_levels = {\n",
    "    \"INFO\": Fore.GREEN,\n",
    "    \"DEBUG\": Fore.BLUE,\n",
    "    \"WARNING\": Fore.YELLOW,\n",
    "    \"ERROR\": Fore.RED\n",
    "}\n",
    "\n",
    "# Define the log lines with levels and messages\n",
    "log_lines = [\n",
    "    (\"DEBUG\", \"send_message\", \"Connected to server at 0.0.0.0:8000\"),\n",
    "    (\"INFO\", \"send_message\", \"Amirreza Yarahmadi Client | Amirreza Yarahmadi Server\"),\n",
    "    (\"INFO\", \"send_message\", \"Client Number: 25 | Server Number: 10 | Sum: 35\")\n",
    "]\n",
    "\n",
    "# Print the prompt with default color\n",
    "print(\"Enter an integer between 1 and 100: 25\")\n",
    "\n",
    "# Print the log lines with colors based on log level\n",
    "for level, func, message in log_lines:\n",
    "    print(f\"{log_levels[level]}[{level}] [{func}]: {message}\\x1b[0m\")\n"
   ]
  },
  {
   "cell_type": "markdown",
   "id": "128b17c0-751b-40d6-82c1-d64edf6a4472",
   "metadata": {},
   "source": [
    "This is the default connection of client and a value inside `[1, 100]` and The server respond according to the client submition. The bellow happens when the user enter an int value out of the desired range:"
   ]
  },
  {
   "cell_type": "code",
   "execution_count": 6,
   "id": "c449373b-f529-4644-b3ae-0550f4fda426",
   "metadata": {},
   "outputs": [
    {
     "name": "stdout",
     "output_type": "stream",
     "text": [
      "Enter an integer between 1 and 100: 0\n",
      "\u001b[34m[DEBUG] [send_message]: Connected to server at 0.0.0.0:8000\u001b[0m\n",
      "\u001b[33m[WARNING] [send_message]: The integer input out of range. Terminating the server\u001b[0m\n"
     ]
    }
   ],
   "source": [
    "from colorama import Fore\n",
    "\n",
    "# Define log levels and their colors\n",
    "log_levels = {\n",
    "    \"INFO\": Fore.GREEN,\n",
    "    \"DEBUG\": Fore.BLUE,\n",
    "    \"WARNING\": Fore.YELLOW,\n",
    "    \"ERROR\": Fore.RED\n",
    "}\n",
    "\n",
    "# Define the log lines with levels and messages\n",
    "log_lines = [\n",
    "    (\"DEBUG\", \"send_message\", \"Connected to server at 0.0.0.0:8000\"),\n",
    "    (\"WARNING\", \"send_message\", \"The integer input out of range. Terminating the server\"),\n",
    "]\n",
    "\n",
    "# Print the prompt with default color\n",
    "print(\"Enter an integer between 1 and 100: 0\")\n",
    "\n",
    "# Print the log lines with colors based on log level\n",
    "for level, func, message in log_lines:\n",
    "    print(f\"{log_levels[level]}[{level}] [{func}]: {message}\\x1b[0m\")"
   ]
  },
  {
   "cell_type": "markdown",
   "id": "428748c8-23e6-4080-a0e6-cd0a1c10a41b",
   "metadata": {},
   "source": [
    "### Summary:\n",
    "This program is about how the client and server talk to each other using sockets. The server checks the number from the client and sends back a response. If anything is wrong, the server or client will stop. This program is a demo of the conversation between client and server and also validating the values transmitted.\n",
    "\n",
    "---\n",
    "[amirreza-yar](https://github.com/amirreza-yar \"Github\") \n",
    "|\n",
    "[yar.amirreza@gmail.com](mailto:yar.amirreza@gmail.com \"Gmail\")"
   ]
  }
 ],
 "metadata": {
  "kernelspec": {
   "display_name": "Python 3 (ipykernel)",
   "language": "python",
   "name": "python3"
  },
  "language_info": {
   "codemirror_mode": {
    "name": "ipython",
    "version": 3
   },
   "file_extension": ".py",
   "mimetype": "text/x-python",
   "name": "python",
   "nbconvert_exporter": "python",
   "pygments_lexer": "ipython3",
   "version": "3.12.3"
  }
 },
 "nbformat": 4,
 "nbformat_minor": 5
}
